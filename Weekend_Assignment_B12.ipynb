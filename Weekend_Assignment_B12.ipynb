{
 "cells": [
  {
   "cell_type": "code",
   "execution_count": 1,
   "metadata": {},
   "outputs": [
    {
     "name": "stdout",
     "output_type": "stream",
     "text": [
      "Hello world of python !!!\n"
     ]
    }
   ],
   "source": [
    "print('Hello world of python !!!')"
   ]
  },
  {
   "cell_type": "code",
   "execution_count": null,
   "metadata": {},
   "outputs": [],
   "source": [
    "#Activity1:\n",
    "#Resturant:\n",
    "Make a class called Restaurant. The __init__() method for Restaurant should store two attributes: a restaurant_name \n",
    "and a cuisine_type.Make a method called describe_restaurant() that prints these two pieces of information, and a \n",
    "method called open_restaurant() that prints a message indicating that the restaurant is open.\n",
    "\n",
    "Make an instance called restaurant from your class. Print the two attributes individually, and then call both methods.\n",
    "\n",
    "\n",
    "\n"
   ]
  },
  {
   "cell_type": "code",
   "execution_count": 23,
   "metadata": {},
   "outputs": [],
   "source": [
    "class Restauarant:                                      #case1\n",
    "    \"\"\"Creating the restaurant class\"\"\"\n",
    "    def __init__(self,restauarant_name,cuisine_type):\n",
    "        \"\"\"created the two attributes for the restauarant class as restauarant_name and cuisine_type\"\"\"\n",
    "        self.restauarant_name=restauarant_name;\n",
    "        self.cuisine_type=cuisine_type;\n",
    "    def describe_restauarant(self):   #method creation\n",
    "        print(f\"The Restauarant name is {self.restauarant_name}\")\n",
    "        print(f\"The cuisine famous here is {self.cuisine_type}\")\n",
    "   \n",
    "    def open_restauarant(self):   #method creation\n",
    "        print(f\"The {self.restauarant_name}  is open now !!!\")\n",
    "    \n",
    "        \n",
    "        "
   ]
  },
  {
   "cell_type": "code",
   "execution_count": 80,
   "metadata": {},
   "outputs": [],
   "source": [
    "xobj=Restauarant('Krutunga' ,'Indian traditional')  "
   ]
  },
  {
   "cell_type": "code",
   "execution_count": 81,
   "metadata": {},
   "outputs": [
    {
     "data": {
      "text/plain": [
       "'Indian traditional'"
      ]
     },
     "execution_count": 81,
     "metadata": {},
     "output_type": "execute_result"
    }
   ],
   "source": [
    "xobj.cuisine_type"
   ]
  },
  {
   "cell_type": "code",
   "execution_count": 20,
   "metadata": {},
   "outputs": [
    {
     "data": {
      "text/plain": [
       "'Krutunga'"
      ]
     },
     "execution_count": 20,
     "metadata": {},
     "output_type": "execute_result"
    }
   ],
   "source": [
    "xobj.restauarant_name"
   ]
  },
  {
   "cell_type": "code",
   "execution_count": 82,
   "metadata": {},
   "outputs": [
    {
     "name": "stdout",
     "output_type": "stream",
     "text": [
      "The Restauarant name is Krutunga\n",
      "The cuisine famous here is Indian traditional\n"
     ]
    }
   ],
   "source": [
    "xobj.describe_restauarant()"
   ]
  },
  {
   "cell_type": "code",
   "execution_count": 83,
   "metadata": {},
   "outputs": [
    {
     "name": "stdout",
     "output_type": "stream",
     "text": [
      "The Krutunga  is open now !!!\n"
     ]
    }
   ],
   "source": [
    "xobj.open_restauarant()"
   ]
  },
  {
   "cell_type": "code",
   "execution_count": null,
   "metadata": {},
   "outputs": [],
   "source": [
    "#Ice Cream Stand: \n",
    "\n",
    "An ice cream stand is a specific kind of restaurant. Write a class called IceCreamStand that inherits from the Restaurant class \n",
    "you wrote above.Add an attribute called flavors that stores a list of ice cream flavors.Write a method that displays these flavors.\n",
    "Create an instance of IceCreamStand, and call this method. \n"
   ]
  },
  {
   "cell_type": "code",
   "execution_count": 95,
   "metadata": {},
   "outputs": [],
   "source": [
    "class Icecreamstand(Restauarant):        #case2\n",
    "    \n",
    "    \n",
    "    flavours=['venila','choclate','orange','mango']\n",
    "    \n",
    "    def describe_flavours(self):\n",
    "        \n",
    "        print(\"The Icecream flavours available  here  is:\")\n",
    "        \n",
    "        for i in flavours:\n",
    "            print(f\"\\n -{i}\")        \n",
    "    "
   ]
  },
  {
   "cell_type": "code",
   "execution_count": 96,
   "metadata": {},
   "outputs": [],
   "source": [
    "aobj=Icecreamstand('Krutunga','Indian traditional')"
   ]
  },
  {
   "cell_type": "code",
   "execution_count": 97,
   "metadata": {},
   "outputs": [
    {
     "name": "stdout",
     "output_type": "stream",
     "text": [
      "The Restauarant name is Krutunga\n",
      "The cuisine famous here is Indian traditional\n"
     ]
    }
   ],
   "source": [
    "aobj.describe_restauarant()"
   ]
  },
  {
   "cell_type": "code",
   "execution_count": null,
   "metadata": {},
   "outputs": [],
   "source": []
  },
  {
   "cell_type": "code",
   "execution_count": 98,
   "metadata": {},
   "outputs": [
    {
     "name": "stdout",
     "output_type": "stream",
     "text": [
      "The Icecream flavours available  here  is:\n",
      "\n",
      " -venila\n",
      "\n",
      " -choclate\n",
      "\n",
      " -orange\n",
      "\n",
      " -mango\n"
     ]
    }
   ],
   "source": [
    "aobj.describe_flavours()"
   ]
  },
  {
   "cell_type": "code",
   "execution_count": null,
   "metadata": {},
   "outputs": [],
   "source": []
  },
  {
   "cell_type": "code",
   "execution_count": null,
   "metadata": {},
   "outputs": [],
   "source": []
  },
  {
   "cell_type": "code",
   "execution_count": null,
   "metadata": {},
   "outputs": [],
   "source": []
  }
 ],
 "metadata": {
  "kernelspec": {
   "display_name": "Python 3",
   "language": "python",
   "name": "python3"
  },
  "language_info": {
   "codemirror_mode": {
    "name": "ipython",
    "version": 3
   },
   "file_extension": ".py",
   "mimetype": "text/x-python",
   "name": "python",
   "nbconvert_exporter": "python",
   "pygments_lexer": "ipython3",
   "version": "3.7.4"
  }
 },
 "nbformat": 4,
 "nbformat_minor": 2
}
